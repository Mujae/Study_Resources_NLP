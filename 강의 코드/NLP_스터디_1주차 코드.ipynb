{
 "cells": [
  {
   "cell_type": "markdown",
   "metadata": {},
   "source": [
    "## 한국어 토큰화\n",
    "한국어에는 조사가 존재하기 때문에 형태소라는 개념이 중요\n",
    "- 자립 형태소:체언(명사, 대명사, 수사), 수식언(관형사, 부사), 감탄사 와 같이 그 자체로 단어가 되어 자립하리 수 있는 형태소를 나타낸다\n",
    "- 의존 형태소: 접사, 어미, 조사, 어간과 같이 다른 형태소와 결합하여 사용되는 형태소를 나타낸다.\n",
    "\n",
    "\n",
    "**한국어는 영어와 비슷한 토큰화를 얻기 위해서는 어절 토큰화가 아닌 형태소 토큰화를 해야한다.**"
   ]
  },
  {
   "cell_type": "markdown",
   "metadata": {},
   "source": [
    "morphs : 형태소 추출\n",
    "\n",
    "pos: 품사 태깅(Part-of-speech tagging)\n",
    "\n",
    "nouns : 명사 추출"
   ]
  },
  {
   "cell_type": "code",
   "execution_count": 1,
   "metadata": {},
   "outputs": [
    {
     "name": "stdout",
     "output_type": "stream",
     "text": [
      "['명예', '학회', '에서', '열공', '한', '우린', ',', '대한민국', '을', '이끌', 'IT', '인재']\n",
      "[('명예', 'Noun'), ('학회', 'Noun'), ('에서', 'Josa'), ('열공', 'Noun'), ('한', 'Josa'), ('우린', 'Noun'), (',', 'Punctuation'), ('대한민국', 'Noun'), ('을', 'Josa'), ('이끌', 'Verb'), ('IT', 'Alpha'), ('인재', 'Noun')]\n",
      "['명예', '학회', '열공', '우린', '대한민국', '인재']\n"
     ]
    }
   ],
   "source": [
    "from konlpy.tag import Okt \n",
    "okt = Okt()\n",
    "text = \"명예학회에서 열공한 우린, 대한민국을 이끌 IT인재\"\n",
    "print(okt.morphs(text))\n",
    "print(okt.pos(text))  \n",
    "print(okt.nouns(text)) "
   ]
  },
  {
   "cell_type": "code",
   "execution_count": 2,
   "metadata": {},
   "outputs": [
    {
     "name": "stdout",
     "output_type": "stream",
     "text": [
      "['명예', '학회', '에서', '열', '공', '하', 'ㄴ', '우리', 'ㄴ', ',', '대한민국', '을', '이끌', 'ㄹ', 'SW', '인재']\n",
      "[('명예', 'NNP'), ('학회', 'NNP'), ('에서', 'JKB'), ('열', 'NNG'), ('공', 'NNG'), ('하', 'XSV'), ('ㄴ', 'ETM'), ('우리', 'NP'), ('ㄴ', 'JX'), (',', 'SP'), ('대한민국', 'NNP'), ('을', 'JKO'), ('이끌', 'VV'), ('ㄹ', 'ETM'), ('SW', 'SL'), ('인재', 'NNG')]\n",
      "['명예', '학회', '열', '공', '대한민국', '인재']\n"
     ]
    }
   ],
   "source": [
    "from konlpy.tag import Komoran\n",
    "komoran=Komoran()  \n",
    "text = \"명예학회에서 열공한 우린, 대한민국을 이끌 IT인재\"\n",
    "print(komoran.morphs(text))\n",
    "print(komoran.pos(text))  \n",
    "print(komoran.nouns(text))  "
   ]
  },
  {
   "cell_type": "code",
   "execution_count": null,
   "metadata": {},
   "outputs": [],
   "source": [
    "from konlpy.tag import Kkma\n",
    "tokenizer=Kkma()  \n",
    "text = \"명예학회에서 열공한 우린, 대한민국을 이끌 IT인재\"\n",
    "print(tokenizer.morphs(text))\n",
    "print(tokenizer.pos(text))  \n",
    "print(tokenizer.nouns(text))  \n"
   ]
  }
 ],
 "metadata": {
  "kernelspec": {
   "display_name": "deepl",
   "language": "python",
   "name": "python3"
  },
  "language_info": {
   "codemirror_mode": {
    "name": "ipython",
    "version": 3
   },
   "file_extension": ".py",
   "mimetype": "text/x-python",
   "name": "python",
   "nbconvert_exporter": "python",
   "pygments_lexer": "ipython3",
   "version": "3.7.16"
  }
 },
 "nbformat": 4,
 "nbformat_minor": 2
}
