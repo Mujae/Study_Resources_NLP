{
  "nbformat": 4,
  "nbformat_minor": 0,
  "metadata": {
    "colab": {
      "provenance": []
    },
    "kernelspec": {
      "name": "python3",
      "display_name": "Python 3"
    },
    "language_info": {
      "name": "python"
    }
  },
  "cells": [
    {
      "cell_type": "code",
      "source": [
        "import numpy as np\n",
        "import tensorflow as tf"
      ],
      "metadata": {
        "id": "LB_UjjCTjMzP"
      },
      "execution_count": 1,
      "outputs": []
    },
    {
      "cell_type": "code",
      "source": [
        "# 시계열 데이터 생성\n",
        "def generate_time_series(batch_size, n_steps):\n",
        "    freq1, freq2, offsets1, offsets2 = np.random.rand(4, batch_size, 1)\n",
        "    time = np.linspace(0, 1, n_steps)\n",
        "    series = 0.5 * np.sin((time - offsets1) * (freq1 * 10 + 10))  # wave 1\n",
        "    series += 0.2 * np.sin((time - offsets2) * (freq2 * 20 + 20)) # + wave 2\n",
        "    series += 0.1 * (np.random.rand(batch_size, n_steps) - 0.5)   # + noise\n",
        "    return series[..., np.newaxis].astype(np.float32)"
      ],
      "metadata": {
        "id": "J9JH_vsAjPG7"
      },
      "execution_count": 2,
      "outputs": []
    },
    {
      "cell_type": "code",
      "source": [
        "# 데이터셋 생성\n",
        "n_steps = 50\n",
        "series = generate_time_series(10000, n_steps + 1)\n",
        "X_train, y_train = series[:7000, :n_steps], series[:7000, -1]\n",
        "X_valid, y_valid = series[7000:9000, :n_steps], series[7000:9000, -1]\n",
        "X_test, y_test = series[9000:, :n_steps], series[9000:, -1]"
      ],
      "metadata": {
        "id": "2b1C3buDjR5x"
      },
      "execution_count": 3,
      "outputs": []
    },
    {
      "cell_type": "code",
      "source": [
        "# RNN 모델 구성\n",
        "rnn_model = tf.keras.models.Sequential([\n",
        "    tf.keras.layers.SimpleRNN(20, return_sequences=True, input_shape=[None, 1]),\n",
        "    tf.keras.layers.SimpleRNN(20),\n",
        "    tf.keras.layers.Dense(1)\n",
        "])"
      ],
      "metadata": {
        "id": "LWEveW8OjTtf"
      },
      "execution_count": 12,
      "outputs": []
    },
    {
      "cell_type": "code",
      "source": [
        "# LSTM 모델 구성\n",
        "lstm_model = tf.keras.models.Sequential([\n",
        "    tf.keras.layers.LSTM(20, return_sequences=True, input_shape=[None, 1]),\n",
        "    tf.keras.layers.LSTM(20),\n",
        "    tf.keras.layers.Dense(1)\n",
        "])"
      ],
      "metadata": {
        "id": "mvtYWC1sjZdX"
      },
      "execution_count": 13,
      "outputs": []
    },
    {
      "cell_type": "code",
      "source": [
        "# RNN 모델 컴파일\n",
        "rnn_model.compile(loss=\"mse\", optimizer=\"adam\")"
      ],
      "metadata": {
        "id": "N-U3_gI4jc4F"
      },
      "execution_count": 15,
      "outputs": []
    },
    {
      "cell_type": "code",
      "source": [
        "# LSTM 모델 컴파일\n",
        "lstm_model.compile(loss=\"mse\", optimizer=\"adam\")"
      ],
      "metadata": {
        "id": "ukuZFJqZjeni"
      },
      "execution_count": 16,
      "outputs": []
    },
    {
      "cell_type": "code",
      "source": [
        "# RNN 모델 훈련\n",
        "rnn_history = rnn_model.fit(X_train, y_train, epochs=10, validation_data=(X_valid, y_valid))"
      ],
      "metadata": {
        "colab": {
          "base_uri": "https://localhost:8080/"
        },
        "id": "0eYFauRRje_t",
        "outputId": "e1cdfb9e-b40b-4e33-d801-9096270ed377"
      },
      "execution_count": 17,
      "outputs": [
        {
          "output_type": "stream",
          "name": "stdout",
          "text": [
            "Epoch 1/10\n",
            "219/219 [==============================] - 7s 26ms/step - loss: 0.0114 - val_loss: 0.0042\n",
            "Epoch 2/10\n",
            "219/219 [==============================] - 4s 18ms/step - loss: 0.0039 - val_loss: 0.0034\n",
            "Epoch 3/10\n",
            "219/219 [==============================] - 4s 19ms/step - loss: 0.0036 - val_loss: 0.0034\n",
            "Epoch 4/10\n",
            "219/219 [==============================] - 5s 21ms/step - loss: 0.0036 - val_loss: 0.0033\n",
            "Epoch 5/10\n",
            "219/219 [==============================] - 4s 18ms/step - loss: 0.0034 - val_loss: 0.0034\n",
            "Epoch 6/10\n",
            "219/219 [==============================] - 4s 20ms/step - loss: 0.0033 - val_loss: 0.0041\n",
            "Epoch 7/10\n",
            "219/219 [==============================] - 4s 20ms/step - loss: 0.0033 - val_loss: 0.0031\n",
            "Epoch 8/10\n",
            "219/219 [==============================] - 4s 18ms/step - loss: 0.0033 - val_loss: 0.0033\n",
            "Epoch 9/10\n",
            "219/219 [==============================] - 5s 23ms/step - loss: 0.0033 - val_loss: 0.0035\n",
            "Epoch 10/10\n",
            "219/219 [==============================] - 4s 18ms/step - loss: 0.0032 - val_loss: 0.0032\n"
          ]
        }
      ]
    },
    {
      "cell_type": "code",
      "source": [
        "# LSTM 모델 훈련\n",
        "lstm_history = lstm_model.fit(X_train, y_train, epochs=10, validation_data=(X_valid, y_valid))"
      ],
      "metadata": {
        "colab": {
          "base_uri": "https://localhost:8080/"
        },
        "id": "Mm3oapRSjgZc",
        "outputId": "866a4e30-7078-4f7a-a830-39e569c18844"
      },
      "execution_count": 18,
      "outputs": [
        {
          "output_type": "stream",
          "name": "stdout",
          "text": [
            "Epoch 1/10\n",
            "219/219 [==============================] - 13s 37ms/step - loss: 0.0462 - val_loss: 0.0268\n",
            "Epoch 2/10\n",
            "219/219 [==============================] - 8s 37ms/step - loss: 0.0193 - val_loss: 0.0120\n",
            "Epoch 3/10\n",
            "219/219 [==============================] - 8s 36ms/step - loss: 0.0068 - val_loss: 0.0041\n",
            "Epoch 4/10\n",
            "219/219 [==============================] - 7s 33ms/step - loss: 0.0036 - val_loss: 0.0033\n",
            "Epoch 5/10\n",
            "219/219 [==============================] - 8s 38ms/step - loss: 0.0032 - val_loss: 0.0031\n",
            "Epoch 6/10\n",
            "219/219 [==============================] - 7s 34ms/step - loss: 0.0032 - val_loss: 0.0034\n",
            "Epoch 7/10\n",
            "219/219 [==============================] - 8s 36ms/step - loss: 0.0031 - val_loss: 0.0029\n",
            "Epoch 8/10\n",
            "219/219 [==============================] - 8s 36ms/step - loss: 0.0031 - val_loss: 0.0030\n",
            "Epoch 9/10\n",
            "219/219 [==============================] - 7s 33ms/step - loss: 0.0029 - val_loss: 0.0030\n",
            "Epoch 10/10\n",
            "219/219 [==============================] - 8s 36ms/step - loss: 0.0029 - val_loss: 0.0028\n"
          ]
        }
      ]
    }
  ]
}